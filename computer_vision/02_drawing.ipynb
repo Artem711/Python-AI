{
  "nbformat": 4,
  "nbformat_minor": 0,
  "metadata": {
    "kernelspec": {
      "display_name": "Python 3",
      "language": "python",
      "name": "python3"
    },
    "language_info": {
      "codemirror_mode": {
        "name": "ipython",
        "version": 3
      },
      "file_extension": ".py",
      "mimetype": "text/x-python",
      "name": "python",
      "nbconvert_exporter": "python",
      "pygments_lexer": "ipython3",
      "version": "3.9.1"
    },
    "colab": {
      "name": "02_drawing.ipynb",
      "provenance": [],
      "collapsed_sections": []
    }
  },
  "cells": [
    {
      "cell_type": "code",
      "metadata": {
        "id": "78fa90hF9NUJ"
      },
      "source": [
        "import numpy as np\n",
        "import cv2\n",
        "from PIL import Image\n",
        "\n",
        "canvas = np.zeros((300, 300, 3), dtype='uint8')\n",
        "FILE_NAME = 'draw.png'"
      ],
      "execution_count": null,
      "outputs": []
    },
    {
      "cell_type": "code",
      "metadata": {
        "id": "h8c-kx5r9NUP",
        "colab": {
          "base_uri": "https://localhost:8080/",
          "height": 316
        },
        "outputId": "13551c00-abbe-46b0-e4ea-41ae788b3a9f"
      },
      "source": [
        "red = (0, 0, 255)\n",
        "green = (0, 255, 0)\n",
        "blue = (255, 0, 0)\n",
        "\n",
        "cv2.line(canvas, (0, 0), (300, 300), green)\n",
        "cv2.imwrite(FILE_NAME, canvas)\n",
        "Image.open(FILE_NAME)"
      ],
      "execution_count": null,
      "outputs": [
        {
          "output_type": "execute_result",
          "data": {
            "image/png": "[encoded data removed]",
            "text/plain": [
              "<PIL.PngImagePlugin.PngImageFile image mode=RGB size=300x300 at 0x7F954A8DB940>"
            ]
          },
          "metadata": {
            "tags": []
          },
          "execution_count": 227
        }
      ]
    },
    {
      "cell_type": "code",
      "metadata": {
        "id": "PG9Of11d9NUQ",
        "colab": {
          "base_uri": "https://localhost:8080/",
          "height": 316
        },
        "outputId": "707b5da1-269d-45ae-bc89-c1bd83ea8f74"
      },
      "source": [
        "cv2.line(canvas, (300, 0), (0, 300), red, 3)\n",
        "\n",
        "cv2.imwrite(FILE_NAME, canvas)\n",
        "Image.open(FILE_NAME)"
      ],
      "execution_count": null,
      "outputs": [
        {
          "output_type": "execute_result",
          "data": {
            "image/png": "[encoded data removed]",
            "text/plain": [
              "<PIL.PngImagePlugin.PngImageFile image mode=RGB size=300x300 at 0x7F954A8DB7B8>"
            ]
          },
          "metadata": {
            "tags": []
          },
          "execution_count": 228
        }
      ]
    },
    {
      "cell_type": "code",
      "metadata": {
        "colab": {
          "base_uri": "https://localhost:8080/",
          "height": 316
        },
        "id": "e_e37KCh9qLP",
        "outputId": "c858ed01-957a-429d-9de4-0369e14805f5"
      },
      "source": [
        "cv2.rectangle(canvas, (10, 10), (60, 60), green)\n",
        "\n",
        "cv2.imwrite(FILE_NAME, canvas)\n",
        "Image.open(FILE_NAME)"
      ],
      "execution_count": null,
      "outputs": [
        {
          "output_type": "execute_result",
          "data": {
            "image/png": "[encoded data removed]",
            "text/plain": [
              "<PIL.PngImagePlugin.PngImageFile image mode=RGB size=300x300 at 0x7F954A8DBA90>"
            ]
          },
          "metadata": {
            "tags": []
          },
          "execution_count": 229
        }
      ]
    },
    {
      "cell_type": "code",
      "metadata": {
        "colab": {
          "base_uri": "https://localhost:8080/",
          "height": 316
        },
        "id": "HwuAvX8R-9lE",
        "outputId": "4a6feedb-887e-4bea-e8b9-f842521a331e"
      },
      "source": [
        "cv2.rectangle(canvas, (50, 200), (200, 255), red, 5)\n",
        "\n",
        "cv2.imwrite(FILE_NAME, canvas)\n",
        "Image.open(FILE_NAME)"
      ],
      "execution_count": null,
      "outputs": [
        {
          "output_type": "execute_result",
          "data": {
            "image/png": "[encoded data removed]",
            "text/plain": [
              "<PIL.PngImagePlugin.PngImageFile image mode=RGB size=300x300 at 0x7F954A8DB2E8>"
            ]
          },
          "metadata": {
            "tags": []
          },
          "execution_count": 230
        }
      ]
    },
    {
      "cell_type": "code",
      "metadata": {
        "colab": {
          "base_uri": "https://localhost:8080/",
          "height": 316
        },
        "id": "1Sw-3ZJD_bzb",
        "outputId": "5936264c-ca43-456c-d079-c60c16f2dc23"
      },
      "source": [
        "cv2.rectangle(canvas, (200, 50), (225, 125), blue, -1)\n",
        "\n",
        "cv2.imwrite(FILE_NAME, canvas)\n",
        "Image.open(FILE_NAME)"
      ],
      "execution_count": null,
      "outputs": [
        {
          "output_type": "execute_result",
          "data": {
            "image/png": "[encoded data removed]",
            "text/plain": [
              "<PIL.PngImagePlugin.PngImageFile image mode=RGB size=300x300 at 0x7F954A8DB9B0>"
            ]
          },
          "metadata": {
            "tags": []
          },
          "execution_count": 231
        }
      ]
    },
    {
      "cell_type": "code",
      "metadata": {
        "colab": {
          "base_uri": "https://localhost:8080/",
          "height": 316
        },
        "id": "Q9rH5pp_AOCP",
        "outputId": "318da17d-4b5e-4aff-f688-fa46936dc8a9"
      },
      "source": [
        "canvas = np.zeros((300, 300, 3), dtype='uint8')\n",
        "\n",
        "for i in range(0,25):\n",
        "  radius = np.random.randint(5, high=200)\n",
        "  color = np.random.randint(0, high=256, size=(3)).tolist()\n",
        "  point = np.random.randint(0, high=256, size=(2))\n",
        "\n",
        "  cv2.circle(canvas, tuple(point), radius, color, -1)\n",
        "\n",
        "(centerX, centerY) = (canvas.shape[1] // 2, canvas.shape[0] // 2)\n",
        "white = (255, 255, 255)\n",
        "\n",
        "for r in range(0, 175, 25):\n",
        "  cv2.circle(canvas, (centerX, centerY), r, white)\n",
        "\n",
        "cv2.imwrite(FILE_NAME, canvas)\n",
        "Image.open(FILE_NAME)"
      ],
      "execution_count": 257,
      "outputs": [
        {
          "output_type": "execute_result",
          "data": {
            "image/png": "[encoded data removed]",
            "text/plain": [
              "<PIL.PngImagePlugin.PngImageFile image mode=RGB size=300x300 at 0x7F954A66F898>"
            ]
          },
          "metadata": {
            "tags": []
          },
          "execution_count": 257
        }
      ]
    }
  ]
}