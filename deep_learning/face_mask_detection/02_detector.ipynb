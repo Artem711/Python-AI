{
  "nbformat": 4,
  "nbformat_minor": 0,
  "metadata": {
    "colab": {
      "name": "02_detector.ipynb",
      "provenance": [],
      "collapsed_sections": []
    },
    "kernelspec": {
      "name": "python3",
      "display_name": "Python 3"
    },
    "accelerator": "GPU"
  },
  "cells": [
    {
      "cell_type": "code",
      "metadata": {
        "id": "oVSV18oyk-Fn"
      },
      "source": [
        "from tensorflow.keras.models import load_model\n",
        "import numpy as np\n",
        "import cv2"
      ],
      "execution_count": 1,
      "outputs": []
    },
    {
      "cell_type": "code",
      "metadata": {
        "id": "ILQNOJKdtBPY"
      },
      "source": [
        "model = load_model(\"model\")\n",
        "detector = cv2.CascadeClassifier(\"haarcascade_frontalface_default.xml\")\n",
        "\n",
        "source = cv2.VideoCapture(0)\n",
        "labels_dict = { 0:\"MASK\", 1:\"NO MASK\"}\n",
        "color_dict = { 0:(0, 255, 0), 1:(0, 0, 255)}"
      ],
      "execution_count": 2,
      "outputs": []
    },
    {
      "cell_type": "code",
      "metadata": {
        "id": "I5w7Iy7CtpU_"
      },
      "source": [
        "from google.colab.patches import cv2_imshow\n",
        "\n",
        "while(True):\n",
        "  # _, img = source.read()\n",
        "  img = cv2.imread(\"ppl.jpg\")\n",
        "  gray = cv2.cvtColor(img, cv2.COLOR_BGR2GRAY)\n",
        "  faces = detector.detectMultiScale(gray, 1.3, 5)\n",
        "  \n",
        "  for x, y, width, height in faces:\n",
        "    face_img = gray[y:y+width, x:x+width]\n",
        "    resized = cv2.resize(face_img, (100, 100))\n",
        "    normalized = resized / 255.0\n",
        "    reshaped = np.reshape(normalized, (1, 100, 100, 1))\n",
        "    result = model.predict(reshaped)\n",
        "\n",
        "    label = np.argmax(result, axis=1)[0]\n",
        "    \n",
        "    cv2.rectangle(img, (x, y), (x+width, y+height), color_dict[label], 2)\n",
        "    cv2.rectangle(img, (x, y -40), (x+width, y), color_dict[label], -1)\n",
        "    cv2.putText(img, labels_dict[label], (x+10, y-10), cv2.FONT_HERSHEY_SIMPLEX, 0.8, (255,255,255), 2)\n",
        "  \n",
        "  cv2.imwrite('result.png', img)\n",
        "  cv2_imshow(img)\n",
        "  key=cv2.waitKey(1)\n",
        "\n",
        "  if (key==27):\n",
        "    break\n",
        "\n",
        "cv2.destroyAllWindows()\n",
        "source.release()"
      ],
      "execution_count": null,
      "outputs": []
    }
  ]
}