{
 "cells": [
  {
   "cell_type": "markdown",
   "metadata": {
    "id": "F5yrBJn18dJm"
   },
   "source": [
    "# DATA PREPROCESSING"
   ]
  },
  {
   "cell_type": "code",
   "execution_count": null,
   "metadata": {
    "colab": {
     "base_uri": "https://localhost:8080/"
    },
    "id": "DsI6y-H43_gz",
    "outputId": "9b874661-4b4b-4c47-eb8b-df09c74356ca"
   },
   "outputs": [
    {
     "name": "stdout",
     "output_type": "stream",
     "text": [
      "Mounted at /content/drive\n"
     ]
    }
   ],
   "source": [
    "import cv2\n",
    "import os\n",
    "\n",
    "from google.colab import drive\n",
    "drive.mount('/content/drive')"
   ]
  },
  {
   "cell_type": "code",
   "execution_count": null,
   "metadata": {
    "colab": {
     "base_uri": "https://localhost:8080/"
    },
    "id": "DfAy070o3_g4",
    "outputId": "2b2bb366-c039-4573-9baf-ae12e74f3744"
   },
   "outputs": [
    {
     "name": "stdout",
     "output_type": "stream",
     "text": [
      "{'with mask': 0, 'without mask': 1}\n",
      "['with mask', 'without mask']\n",
      "[0, 1]\n"
     ]
    }
   ],
   "source": [
    "data_path = './drive/MyDrive/face_mask_detection/dataset'\n",
    "categories = list(filter(lambda item: item != '.DS_Store', os.listdir(data_path)))\n",
    "labels = [i for i in range(len(categories))]\n",
    "\n",
    "label_dict = dict(zip(categories, labels))\n",
    "\n",
    "print(label_dict)\n",
    "print(categories)\n",
    "print(labels)"
   ]
  },
  {
   "cell_type": "code",
   "execution_count": null,
   "metadata": {
    "id": "-BigCzXU3_g5"
   },
   "outputs": [],
   "source": [
    "IMG_SIZE=100\n",
    "data=[]\n",
    "target=[]\n",
    "\n",
    "for category in categories:\n",
    "    folder_path=os.path.join(data_path, category)\n",
    "    img_names = os.listdir(folder_path) \n",
    "    \n",
    "    for name in img_names:\n",
    "        img_path=os.path.join(folder_path, name)\n",
    "        img = cv2.imread(img_path)\n",
    "\n",
    "        try:\n",
    "            # Converting the image into gray scale\n",
    "            gray = cv2.cvtColor(img, cv2.COLOR_BGR2GRAY)\n",
    "            # Resizing the gray scale into 50x50 (because we need a fixed common size for all images)\n",
    "            resized = cv2.resize(gray, (IMG_SIZE, IMG_SIZE))\n",
    "            data.append(resized)\n",
    "            target.append(label_dict[category])\n",
    "            # Appending the image and the label (categorized) into the list (dataset)\n",
    "            \n",
    "        except Excpetion as e:\n",
    "            # If any Excpetion raised, it is catched here and passed to next image\n",
    "            print(\"Excpetion\", e)"
   ]
  },
  {
   "cell_type": "code",
   "execution_count": null,
   "metadata": {
    "id": "eis-PhoE3_g6"
   },
   "outputs": [],
   "source": [
    "import numpy as np\n",
    "\n",
    "data = np.array(data) / 255.0\n",
    "data = np.reshape(data, (data.shape[0], IMG_SIZE, IMG_SIZE, 1))\n",
    "target = np.array(target)\n",
    "\n",
    "from keras.utils import np_utils\n",
    "new_target = np_utils.to_categorical(target)"
   ]
  },
  {
   "cell_type": "code",
   "execution_count": null,
   "metadata": {
    "id": "AJzoEXD-8zF5"
   },
   "outputs": [],
   "source": [
    "np.save('data', data)\n",
    "np.save('target', new_target)"
   ]
  },
  {
   "cell_type": "markdown",
   "metadata": {
    "id": "doAWYDWQ8Xkv"
   },
   "source": [
    "# TRAINING CONVOLUTIONAL NEURAL NETWORK\n",
    "\n",
    "\n"
   ]
  },
  {
   "cell_type": "code",
   "execution_count": null,
   "metadata": {
    "id": "vcij6tYL8rFM"
   },
   "outputs": [],
   "source": [
    "data = np.load('data.npy')\n",
    "target = np.load('target.npy')"
   ]
  },
  {
   "cell_type": "code",
   "execution_count": null,
   "metadata": {
    "id": "_R3Igan19HBB"
   },
   "outputs": [],
   "source": [
    "from tensorflow.keras.models import Sequential\n",
    "from tensorflow.keras.layers import Activation, Dropout, Dense, Flatten\n",
    "from tensorflow.keras.layers import MaxPooling2D, Conv2D\n",
    "from tensorflow.keras.callbacks import ModelCheckpoint"
   ]
  },
  {
   "cell_type": "code",
   "execution_count": null,
   "metadata": {
    "id": "r6mJrNzk9EZ5"
   },
   "outputs": [],
   "source": [
    "model=Sequential()\n",
    "\n",
    "model.add(Conv2D(200,(3,3),input_shape=data.shape[1:]))\n",
    "model.add(Activation('relu'))\n",
    "model.add(MaxPooling2D(pool_size=(2,2)))\n",
    "#The first CNN layer followed by Relu and MaxPooling layers\n",
    "\n",
    "model.add(Conv2D(100,(3,3)))\n",
    "model.add(Activation('relu'))\n",
    "model.add(MaxPooling2D(pool_size=(2,2)))\n",
    "#The second convolution layer followed by Relu and MaxPooling layers\n",
    "\n",
    "model.add(Flatten())\n",
    "model.add(Dropout(0.5))\n",
    "#Flatten layer to stack the output convolutions from second convolution layer\n",
    "model.add(Dense(50,activation='relu'))\n",
    "#Dense layer of 64 neurons\n",
    "model.add(Dense(2,activation='softmax'))\n",
    "#The Final layer with two outputs for two categories\n",
    "\n",
    "model.compile(loss='categorical_crossentropy',optimizer='adam',metrics=['accuracy'])\n"
   ]
  },
  {
   "cell_type": "code",
   "execution_count": null,
   "metadata": {
    "id": "iG0Yr2I75UCE"
   },
   "outputs": [],
   "source": [
    "from sklearn.model_selection import train_test_split\n",
    "train_data, test_data, train_target, test_target = train_test_split(data, target, test_size=0.1)"
   ]
  },
  {
   "cell_type": "code",
   "execution_count": null,
   "metadata": {
    "colab": {
     "background_save": true,
     "base_uri": "https://localhost:8080/"
    },
    "id": "3h4izwY15oxn",
    "outputId": "bf4aa581-0e90-46e6-f885-52ab62c662a3"
   },
   "outputs": [
    {
     "name": "stdout",
     "output_type": "stream",
     "text": [
      "Epoch 1/20\n",
      "10/10 [==============================] - 24s 2s/step - loss: 0.6103 - accuracy: 0.6296 - val_loss: 0.5116 - val_accuracy: 0.8267\n",
      "INFO:tensorflow:Assets written to: model-001.model/assets\n",
      "Epoch 2/20\n",
      "10/10 [==============================] - 23s 2s/step - loss: 0.4867 - accuracy: 0.8524 - val_loss: 0.4805 - val_accuracy: 0.8267\n",
      "INFO:tensorflow:Assets written to: model-002.model/assets\n",
      "Epoch 3/20\n",
      "10/10 [==============================] - 23s 2s/step - loss: 0.4479 - accuracy: 0.8450 - val_loss: 0.4787 - val_accuracy: 0.8267\n",
      "INFO:tensorflow:Assets written to: model-003.model/assets\n",
      "Epoch 4/20\n",
      "10/10 [==============================] - 23s 2s/step - loss: 0.4854 - accuracy: 0.8141 - val_loss: 0.4863 - val_accuracy: 0.8267\n",
      "Epoch 5/20\n",
      "10/10 [==============================] - 23s 2s/step - loss: 0.5018 - accuracy: 0.8165 - val_loss: 0.4624 - val_accuracy: 0.8267\n",
      "INFO:tensorflow:Assets written to: model-005.model/assets\n",
      "Epoch 6/20\n",
      "10/10 [==============================] - 23s 2s/step - loss: 0.4328 - accuracy: 0.8496 - val_loss: 0.4613 - val_accuracy: 0.8267\n",
      "INFO:tensorflow:Assets written to: model-006.model/assets\n",
      "Epoch 7/20\n",
      "10/10 [==============================] - 23s 2s/step - loss: 0.4542 - accuracy: 0.8323 - val_loss: 0.4619 - val_accuracy: 0.8267\n",
      "Epoch 8/20\n",
      "10/10 [==============================] - 23s 2s/step - loss: 0.4626 - accuracy: 0.8262 - val_loss: 0.4611 - val_accuracy: 0.8267\n",
      "INFO:tensorflow:Assets written to: model-008.model/assets\n",
      "Epoch 9/20\n",
      "10/10 [==============================] - 23s 2s/step - loss: 0.4923 - accuracy: 0.8080 - val_loss: 0.4639 - val_accuracy: 0.8267\n",
      "Epoch 10/20\n",
      "10/10 [==============================] - 23s 2s/step - loss: 0.4626 - accuracy: 0.8269 - val_loss: 0.4616 - val_accuracy: 0.8267\n",
      "Epoch 11/20\n",
      "10/10 [==============================] - 23s 2s/step - loss: 0.4556 - accuracy: 0.8313 - val_loss: 0.4630 - val_accuracy: 0.8267\n",
      "Epoch 12/20\n",
      "10/10 [==============================] - 23s 2s/step - loss: 0.4730 - accuracy: 0.8219 - val_loss: 0.4612 - val_accuracy: 0.8267\n",
      "Epoch 13/20\n",
      "10/10 [==============================] - 23s 2s/step - loss: 0.4562 - accuracy: 0.8315 - val_loss: 0.4612 - val_accuracy: 0.8267\n",
      "Epoch 14/20\n",
      "10/10 [==============================] - 23s 2s/step - loss: 0.4259 - accuracy: 0.8531 - val_loss: 0.4620 - val_accuracy: 0.8267\n",
      "Epoch 15/20\n",
      "10/10 [==============================] - 23s 2s/step - loss: 0.4351 - accuracy: 0.8473 - val_loss: 0.4611 - val_accuracy: 0.8267\n",
      "Epoch 16/20\n",
      "10/10 [==============================] - 23s 2s/step - loss: 0.4605 - accuracy: 0.8288 - val_loss: 0.4616 - val_accuracy: 0.8267\n",
      "Epoch 17/20\n",
      "10/10 [==============================] - 23s 2s/step - loss: 0.4431 - accuracy: 0.8390 - val_loss: 0.4624 - val_accuracy: 0.8267\n",
      "Epoch 18/20\n",
      "10/10 [==============================] - 23s 2s/step - loss: 0.4628 - accuracy: 0.8264 - val_loss: 0.4623 - val_accuracy: 0.8267\n",
      "Epoch 19/20\n",
      "10/10 [==============================] - 23s 2s/step - loss: 0.4246 - accuracy: 0.8523 - val_loss: 0.4620 - val_accuracy: 0.8267\n",
      "Epoch 20/20\n",
      "10/10 [==============================] - 23s 2s/step - loss: 0.4659 - accuracy: 0.8261 - val_loss: 0.4620 - val_accuracy: 0.8267\n"
     ]
    }
   ],
   "source": [
    "checkpoint = ModelCheckpoint('model-{epoch:03d}.model',monitor='val_loss',verbose=0,save_best_only=True,mode='auto')\n",
    "history=model.fit(train_data,train_target,epochs=20,callbacks=[checkpoint],validation_split=0.2)"
   ]
  },
  {
   "cell_type": "code",
   "execution_count": null,
   "metadata": {
    "colab": {
     "base_uri": "https://localhost:8080/",
     "height": 278
    },
    "id": "zNyBNDB15-Te",
    "outputId": "45cdc3a9-da22-4272-f43d-29134a2ce586"
   },
   "outputs": [
    {
     "data": {
      "image/png": "[encoded data removed]",
      "text/plain": [
       "<Figure size 432x288 with 1 Axes>"
      ]
     },
     "metadata": {
      "tags": []
     },
     "output_type": "display_data"
    }
   ],
   "source": [
    "from matplotlib import pyplot as plt\n",
    "\n",
    "plt.plot(history.history['loss'], 'r', label='training loss')\n",
    "plt.plot(history.history['val_loss'], label='validation loss')\n",
    "plt.xlabel(\"# epochs\")\n",
    "plt.ylabel(\"loss\")\n",
    "plt.legend()\n",
    "plt.show()"
   ]
  },
  {
   "cell_type": "code",
   "execution_count": null,
   "metadata": {
    "colab": {
     "base_uri": "https://localhost:8080/",
     "height": 278
    },
    "id": "T0uk15zvJOpa",
    "outputId": "07627629-a694-495f-e0bb-1bd4a84baaa4"
   },
   "outputs": [
    {
     "data": {
      "image/png": "[encoded data removed]",
      "text/plain": [
       "<Figure size 432x288 with 1 Axes>"
      ]
     },
     "metadata": {
      "tags": []
     },
     "output_type": "display_data"
    }
   ],
   "source": [
    "plt.plot(history.history['accuracy'],'r', label='training accuracy')\n",
    "plt.plot(history.history['val_accuracy'], label='validation accuracy')\n",
    "plt.xlabel(\"# epochs\")\n",
    "plt.ylabel(\"loss\")\n",
    "plt.legend()\n",
    "plt.show()"
   ]
  },
  {
   "cell_type": "code",
   "execution_count": null,
   "metadata": {
    "colab": {
     "base_uri": "https://localhost:8080/"
    },
    "id": "-C6EG5VEKUHw",
    "outputId": "ace093cc-41a2-475b-c0a1-7fcde5bbbb17"
   },
   "outputs": [
    {
     "name": "stdout",
     "output_type": "stream",
     "text": [
      "2/2 [==============================] - 0s 94ms/step - loss: 0.2261 - accuracy: 0.8810\n",
      "[0.22611843049526215, 0.8809523582458496]\n"
     ]
    }
   ],
   "source": [
    "print(model.evaluate(test_data, test_target))"
   ]
  },
  {
   "cell_type": "markdown",
   "metadata": {
    "id": "83o2FBgvNKye"
   },
   "source": []
  }
 ],
 "metadata": {
  "accelerator": "GPU",
  "colab": {
   "collapsed_sections": [],
   "name": "Копия блокнота \"01_data_preprocessing-checkpoint.ipynb\"",
   "provenance": [],
   "toc_visible": true
  },
  "kernelspec": {
   "display_name": "Python 3",
   "language": "python",
   "name": "python3"
  },
  "language_info": {
   "codemirror_mode": {
    "name": "ipython",
    "version": 3
   },
   "file_extension": ".py",
   "mimetype": "text/x-python",
   "name": "python",
   "nbconvert_exporter": "python",
   "pygments_lexer": "ipython3",
   "version": "3.9.1"
  }
 },
 "nbformat": 4,
 "nbformat_minor": 1
}
