{
 "cells": [
  {
   "cell_type": "code",
   "execution_count": 2,
   "id": "competent-lyric",
   "metadata": {},
   "outputs": [],
   "source": [
    "import cv2\n",
    "import os"
   ]
  },
  {
   "cell_type": "code",
   "execution_count": 22,
   "id": "occupational-stanford",
   "metadata": {},
   "outputs": [
    {
     "name": "stdout",
     "output_type": "stream",
     "text": [
      "{'without mask': 0, 'with mask': 1}\n",
      "['without mask', 'with mask']\n",
      "[0, 1]\n"
     ]
    }
   ],
   "source": [
    "data_path = 'dataset'\n",
    "categories = os.listdir(data_path)\n",
    "labels = [i for i in range(len(categories))]\n",
    "\n",
    "label_dict = dict(zip(categories, labels))\n",
    "\n",
    "print(label_dict)\n",
    "print(categories)\n",
    "print(labels)"
   ]
  },
  {
   "cell_type": "code",
   "execution_count": 48,
   "id": "surprising-class",
   "metadata": {},
   "outputs": [],
   "source": [
    "IMG_SIZE=100\n",
    "data=[]\n",
    "target=[]\n",
    "\n",
    "for category in categories:\n",
    "    folder_path=os.path.join(data_path, category)\n",
    "    img_names = os.listdir(folder_path)\n",
    "    \n",
    "    for name in img_names:\n",
    "        img_path=os.path.join(folder_path, name)\n",
    "        img = cv2.imread(img_path)\n",
    "\n",
    "        try:\n",
    "            # Converting the image into gray scale\n",
    "            gray = cv2.cvtColor(img, cv2.COLOR_BGR2GRAY)\n",
    "            # Resizing the gray scale into 50x50 (because we need a fixed common size for all images)\n",
    "            resized = cv2.resize(gray, (IMG_SIZE, IMG_SIZE))\n",
    "            data.append(resized)\n",
    "            target.append(label_dict[category])\n",
    "            # Appending the image and the label (categorized) into the list (dataset)\n",
    "            \n",
    "        except Excpetion as e:\n",
    "            # If any Excpetion raised, it is catched here and passed to next image\n",
    "            print(\"Excpetion\", e)"
   ]
  },
  {
   "cell_type": "code",
   "execution_count": 61,
   "id": "inside-chester",
   "metadata": {},
   "outputs": [
    {
     "data": {
      "text/plain": [
       "array([0, 0, 0, ..., 1, 1, 1])"
      ]
     },
     "execution_count": 61,
     "metadata": {},
     "output_type": "execute_result"
    }
   ],
   "source": [
    "import numpy as np\n",
    "\n",
    "data = np.array(data) / 255.0\n",
    "data = np.reshape(data, (data.shape[0], IMG_SIZE, IMG_SIZE, 1))\n",
    "target = np.array(target)\n",
    "\n",
    "# from keras.utils import np_utils\n",
    "# new_target=np_utils.to_categorical(target)"
   ]
  }
 ],
 "metadata": {
  "kernelspec": {
   "display_name": "Python 3",
   "language": "python",
   "name": "python3"
  },
  "language_info": {
   "codemirror_mode": {
    "name": "ipython",
    "version": 3
   },
   "file_extension": ".py",
   "mimetype": "text/x-python",
   "name": "python",
   "nbconvert_exporter": "python",
   "pygments_lexer": "ipython3",
   "version": "3.9.1"
  }
 },
 "nbformat": 4,
 "nbformat_minor": 5
}
